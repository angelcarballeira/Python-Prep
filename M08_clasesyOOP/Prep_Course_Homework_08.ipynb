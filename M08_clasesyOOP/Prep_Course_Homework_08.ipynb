{
 "cells": [
  {
   "attachments": {},
   "cell_type": "markdown",
   "metadata": {},
   "source": [
    "## Clases y Programación Orientada a Objetos"
   ]
  },
  {
   "attachments": {},
   "cell_type": "markdown",
   "metadata": {},
   "source": [
    "1) Crear la clase vehículo que contenga los atributos:<br>\n",
    "Color<br>\n",
    "Si es moto, auto, camioneta ó camión<br>\n",
    "Cilindrada del motor"
   ]
  },
  {
   "cell_type": "code",
   "execution_count": 3,
   "metadata": {},
   "outputs": [],
   "source": [
    "class Vehiculo:\n",
    "  def __init__(self, color, tipo, cilindrada):\n",
    "    self.color = color\n",
    "    self.tipo = tipo\n",
    "    self.cilindrada = cilindrada"
   ]
  },
  {
   "attachments": {},
   "cell_type": "markdown",
   "metadata": {},
   "source": [
    "2) A la clase Vehiculo creada en el punto 1, agregar los siguientes métodos:<br>\n",
    "Acelerar<br>\n",
    "Frenar<br>\n",
    "Doblar<br>"
   ]
  },
  {
   "cell_type": "code",
   "execution_count": 1,
   "metadata": {},
   "outputs": [],
   "source": [
    "class Vehiculo:\n",
    "  def __init__(self, color, tipo, cilindrada):\n",
    "    self.color = color\n",
    "    self.tipo = tipo\n",
    "    self.cilindrada = cilindrada\n",
    "    self.velocidad = 0\n",
    "    self.direccion = ''\n",
    "    \n",
    "\n",
    "  def Acelerar(self, vel=0):\n",
    "    self.velocidad += vel\n",
    "\n",
    "  def Frenar(self, vel):\n",
    "    self.velocidad -= vel\n",
    "\n",
    "  def Doblar(self,dir=''):\n",
    "    self.direccion = dir\n",
    "    "
   ]
  },
  {
   "attachments": {},
   "cell_type": "markdown",
   "metadata": {},
   "source": [
    "3) Instanciar 3 objetos de la clase vehículo y ejecutar sus métodos, probar luego el resultado"
   ]
  },
  {
   "cell_type": "code",
   "execution_count": 42,
   "metadata": {},
   "outputs": [
    {
     "name": "stdout",
     "output_type": "stream",
     "text": [
      "Blanco\n",
      "Auto\n",
      "250\n",
      "Acelerando a la velocidad de 40\n",
      "Frenando a  30\n",
      "Doblando a la Derecha\n",
      "Acelerando a la velocidad de 0\n",
      "Doblando a la Izquierda\n"
     ]
    }
   ],
   "source": [
    "vehículo1 = Vehiculo(color='Blanco', tipo='Camioneta', cilindrada=3.6)\n",
    "vehículo2 = Vehiculo(color='Rojo', tipo='Auto', cilindrada=2.0)\n",
    "vehículo3 = Vehiculo(color='Gris', tipo='Moto', cilindrada=250)\n",
    "\n",
    "print(vehículo1.color)\n",
    "print(vehículo2.tipo)\n",
    "print(vehículo3.cilindrada)\n",
    "\n",
    "# Métodos\n",
    "vehículo3.Acelerar(40)\n",
    "vehículo3.Frenar(10)\n",
    "vehículo3.Doblar('Derecha')\n",
    "\n",
    "vehículo1.Acelerar(0)\n",
    "vehículo1.Doblar('Izquierda')\n"
   ]
  },
  {
   "attachments": {},
   "cell_type": "markdown",
   "metadata": {},
   "source": [
    "4) Agregar a la clase Vehiculo, un método que muestre su estado, es decir, a que velocidad se encuentra y su dirección. Y otro método que muestre color, tipo y cilindrada"
   ]
  },
  {
   "cell_type": "code",
   "execution_count": 4,
   "metadata": {},
   "outputs": [
    {
     "name": "stdout",
     "output_type": "stream",
     "text": [
      "Tipo Camioneta, color Negro, cilindrada 3.6\n",
      "Velocidad: 0 - Dirección: \n"
     ]
    }
   ],
   "source": [
    "class Vehiculo:\n",
    "  def __init__(self, color, tipo, cilindrada):\n",
    "    self.color = color\n",
    "    self.tipo = tipo\n",
    "    self.cilindrada = cilindrada\n",
    "    self.velocidad = 0\n",
    "    self.direccion = ''\n",
    "    \n",
    "\n",
    "  def Acelerar(self, vel=0):\n",
    "    self.velocidad += vel\n",
    "\n",
    "  def Frenar(self, vel):\n",
    "    self.velocidad -= vel\n",
    "\n",
    "  def Doblar(self,dir=''):\n",
    "    self.direccion = dir\n",
    "\n",
    "  def Estado(self):\n",
    "    print('Velocidad:', self.velocidad, '- Dirección:', self.direccion)\n",
    "  \n",
    "  def Detalle(self):\n",
    "    print(f'Tipo {self.tipo}, color {self.color}, cilindrada {self.cilindrada}')\n",
    "\n",
    "\n",
    "vehiculo4 = Vehiculo('Negro', 'Camioneta', 3.6)\n",
    "vehiculo4.Detalle()\n",
    "vehiculo4.Estado()"
   ]
  },
  {
   "attachments": {},
   "cell_type": "markdown",
   "metadata": {},
   "source": [
    "5) Crear una clase que permita utilizar las funciones creadas en la práctica del módulo 7<br>\n",
    "Verificar Primo<br>\n",
    "Valor modal<br>\n",
    "Conversión grados<br>\n",
    "Factorial<br>"
   ]
  },
  {
   "cell_type": "code",
   "execution_count": null,
   "metadata": {},
   "outputs": [],
   "source": []
  },
  {
   "attachments": {},
   "cell_type": "markdown",
   "metadata": {},
   "source": [
    "6) Probar las funciones incorporadas en la clase del punto 5"
   ]
  },
  {
   "cell_type": "code",
   "execution_count": null,
   "metadata": {},
   "outputs": [],
   "source": []
  },
  {
   "attachments": {},
   "cell_type": "markdown",
   "metadata": {},
   "source": [
    "7) Es necesario que la clase creada en el punto 5 contenga una lista, sobre la cual se apliquen las funciones incorporadas"
   ]
  },
  {
   "cell_type": "code",
   "execution_count": null,
   "metadata": {},
   "outputs": [],
   "source": []
  },
  {
   "attachments": {},
   "cell_type": "markdown",
   "metadata": {},
   "source": [
    "8) Crear un archivo .py aparte y ubicar allí la clase generada en el punto anterior. Luego realizar la importación del módulo y probar alguna de sus funciones"
   ]
  },
  {
   "cell_type": "code",
   "execution_count": null,
   "metadata": {},
   "outputs": [],
   "source": []
  }
 ],
 "metadata": {
  "kernelspec": {
   "display_name": "Python 3",
   "language": "python",
   "name": "python3"
  },
  "language_info": {
   "codemirror_mode": {
    "name": "ipython",
    "version": 3
   },
   "file_extension": ".py",
   "mimetype": "text/x-python",
   "name": "python",
   "nbconvert_exporter": "python",
   "pygments_lexer": "ipython3",
   "version": "3.13.0"
  }
 },
 "nbformat": 4,
 "nbformat_minor": 4
}
